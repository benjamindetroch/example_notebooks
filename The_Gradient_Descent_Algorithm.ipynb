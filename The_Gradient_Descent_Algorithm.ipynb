{
 "cells": [
  {
   "cell_type": "code",
   "execution_count": 1,
   "metadata": {
    "collapsed": false
   },
   "outputs": [
    {
     "data": {
      "text/html": [
       "<style>.container { width:100% !important; }</style>"
      ],
      "text/plain": [
       "<IPython.core.display.HTML object>"
      ]
     },
     "execution_count": 1,
     "metadata": {},
     "output_type": "execute_result"
    }
   ],
   "source": [
    "import pandas as pd\n",
    "import numpy as np\n",
    "np.set_printoptions(precision=5, suppress=True) \n",
    "import matplotlib.pyplot as plt\n",
    "import re\n",
    "import sqlite3\n",
    "%matplotlib inline\n",
    "pd.options.display.max_columns = 100\n",
    "import seaborn as sb\n",
    "import datetime\n",
    "from sqlalchemy import create_engine\n",
    "from difflib import SequenceMatcher, get_close_matches\n",
    "from IPython.core.display import HTML\n",
    "from sklearn.ensemble import RandomForestClassifier, GradientBoostingClassifier\n",
    "from sklearn.model_selection import cross_val_predict, GridSearchCV, KFold\n",
    "from sklearn.metrics import roc_curve, roc_auc_score\n",
    "from ipywidgets import widgets\n",
    "from IPython.display import display\n",
    "from scipy.cluster.hierarchy import dendrogram, linkage, fcluster\n",
    "from sklearn import decomposition\n",
    "\n",
    "from IPython.core.display import HTML\n",
    "HTML(\"<style>.container { width:100% !important; }</style>\")"
   ]
  },
  {
   "cell_type": "markdown",
   "metadata": {
    "collapsed": false
   },
   "source": [
    "https://spin.atomicobject.com/2014/06/24/gradient-descent-linear-regression/"
   ]
  },
  {
   "cell_type": "code",
   "execution_count": 2,
   "metadata": {
    "collapsed": false
   },
   "outputs": [
    {
     "name": "stdout",
     "output_type": "stream",
     "text": [
      "Boston House Prices dataset\n",
      "===========================\n",
      "\n",
      "Notes\n",
      "------\n",
      "Data Set Characteristics:  \n",
      "\n",
      "    :Number of Instances: 506 \n",
      "\n",
      "    :Number of Attributes: 13 numeric/categorical predictive\n",
      "    \n",
      "    :Median Value (attribute 14) is usually the target\n",
      "\n",
      "    :Attribute Information (in order):\n",
      "        - CRIM     per capita crime rate by town\n",
      "        - ZN       proportion of residential land zoned for lots over 25,000 sq.ft.\n",
      "        - INDUS    proportion of non-retail business acres per town\n",
      "        - CHAS     Charles River dummy variable (= 1 if tract bounds river; 0 otherwise)\n",
      "        - NOX      nitric oxides concentration (parts per 10 million)\n",
      "        - RM       average number of rooms per dwelling\n",
      "        - AGE      proportion of owner-occupied units built prior to 1940\n",
      "        - DIS      weighted distances to five Boston employment centres\n",
      "        - RAD      index of accessibility to radial highways\n",
      "        - TAX      full-value property-tax rate per $10,000\n",
      "        - PTRATIO  pupil-teacher ratio by town\n",
      "        - B        1000(Bk - 0.63)^2 where Bk is the proportion of blacks by town\n",
      "        - LSTAT    % lower status of the population\n",
      "        - MEDV     Median value of owner-occupied homes in $1000's\n",
      "\n",
      "    :Missing Attribute Values: None\n",
      "\n",
      "    :Creator: Harrison, D. and Rubinfeld, D.L.\n",
      "\n",
      "This is a copy of UCI ML housing dataset.\n",
      "http://archive.ics.uci.edu/ml/datasets/Housing\n",
      "\n",
      "\n",
      "This dataset was taken from the StatLib library which is maintained at Carnegie Mellon University.\n",
      "\n",
      "The Boston house-price data of Harrison, D. and Rubinfeld, D.L. 'Hedonic\n",
      "prices and the demand for clean air', J. Environ. Economics & Management,\n",
      "vol.5, 81-102, 1978.   Used in Belsley, Kuh & Welsch, 'Regression diagnostics\n",
      "...', Wiley, 1980.   N.B. Various transformations are used in the table on\n",
      "pages 244-261 of the latter.\n",
      "\n",
      "The Boston house-price data has been used in many machine learning papers that address regression\n",
      "problems.   \n",
      "     \n",
      "**References**\n",
      "\n",
      "   - Belsley, Kuh & Welsch, 'Regression diagnostics: Identifying Influential Data and Sources of Collinearity', Wiley, 1980. 244-261.\n",
      "   - Quinlan,R. (1993). Combining Instance-Based and Model-Based Learning. In Proceedings on the Tenth International Conference of Machine Learning, 236-243, University of Massachusetts, Amherst. Morgan Kaufmann.\n",
      "   - many more! (see http://archive.ics.uci.edu/ml/datasets/Housing)\n",
      "\n"
     ]
    }
   ],
   "source": [
    "from sklearn import datasets\n",
    "houseprices_raw = datasets.load_boston()\n",
    "print(houseprices_raw['DESCR'])"
   ]
  },
  {
   "cell_type": "code",
   "execution_count": 3,
   "metadata": {
    "collapsed": false
   },
   "outputs": [
    {
     "data": {
      "text/html": [
       "<div>\n",
       "<table border=\"1\" class=\"dataframe\">\n",
       "  <thead>\n",
       "    <tr style=\"text-align: right;\">\n",
       "      <th></th>\n",
       "      <th>CRIM</th>\n",
       "      <th>ZN</th>\n",
       "      <th>INDUS</th>\n",
       "      <th>CHAS</th>\n",
       "      <th>NOX</th>\n",
       "      <th>RM</th>\n",
       "      <th>AGE</th>\n",
       "      <th>DIS</th>\n",
       "      <th>RAD</th>\n",
       "      <th>TAX</th>\n",
       "      <th>PTRATIO</th>\n",
       "      <th>B</th>\n",
       "      <th>LSTAT</th>\n",
       "      <th>target</th>\n",
       "    </tr>\n",
       "  </thead>\n",
       "  <tbody>\n",
       "    <tr>\n",
       "      <th>446</th>\n",
       "      <td>6.28807</td>\n",
       "      <td>0.0</td>\n",
       "      <td>18.1</td>\n",
       "      <td>0.0</td>\n",
       "      <td>0.74</td>\n",
       "      <td>6.341</td>\n",
       "      <td>96.4</td>\n",
       "      <td>2.072</td>\n",
       "      <td>24.0</td>\n",
       "      <td>666.0</td>\n",
       "      <td>20.2</td>\n",
       "      <td>318.01</td>\n",
       "      <td>17.79</td>\n",
       "      <td>14.9</td>\n",
       "    </tr>\n",
       "  </tbody>\n",
       "</table>\n",
       "</div>"
      ],
      "text/plain": [
       "        CRIM   ZN  INDUS  CHAS   NOX     RM   AGE    DIS   RAD    TAX  \\\n",
       "446  6.28807  0.0   18.1   0.0  0.74  6.341  96.4  2.072  24.0  666.0   \n",
       "\n",
       "     PTRATIO       B  LSTAT  target  \n",
       "446     20.2  318.01  17.79    14.9  "
      ]
     },
     "execution_count": 3,
     "metadata": {},
     "output_type": "execute_result"
    }
   ],
   "source": [
    "# Create dataframe\n",
    "houseprices_df = pd.DataFrame(data = houseprices_raw['data'], columns = houseprices_raw['feature_names'])\n",
    "houseprices_df['target'] = houseprices_raw['target']\n",
    "houseprices_df.sample()"
   ]
  },
  {
   "cell_type": "code",
   "execution_count": 4,
   "metadata": {
    "collapsed": false
   },
   "outputs": [
    {
     "name": "stdout",
     "output_type": "stream",
     "text": [
      "Lin model intercept: -34.67, slope: 9.10\n",
      "R square: 48.4\n",
      "MSE: 43.60\n"
     ]
    },
    {
     "data": {
      "image/png": "[encoded data removed]",
      "text/plain": [
       "<matplotlib.figure.Figure at 0x119f3e160>"
      ]
     },
     "metadata": {},
     "output_type": "display_data"
    }
   ],
   "source": [
    "from sklearn.linear_model import LinearRegression\n",
    "# Correlation between number of rooms and price\n",
    "lin_model = LinearRegression(fit_intercept=True)\n",
    "lin_model_fitted = lin_model.fit(X=houseprices_df[['RM']], y=houseprices_df['target'])\n",
    "plt.plot(houseprices_df['RM'], houseprices_df['target'], '.')\n",
    "plt.plot([houseprices_df['RM'].min(), houseprices_df['RM'].max()],\n",
    "         [lin_model_fitted.intercept_ + (houseprices_df['RM'].min() * lin_model_fitted.coef_[0]), \n",
    "          lin_model_fitted.intercept_ + (houseprices_df['RM'].max() * lin_model_fitted.coef_[0])], \n",
    "         'r-')\n",
    "print('Lin model intercept: {:.2f}, slope: {:.2f}'.format(lin_model_fitted.intercept_, lin_model_fitted.coef_[0]))\n",
    "print('R square: {:.1f}'.format(lin_model_fitted.score(X=houseprices_df[['RM']], y=houseprices_df['target'])*100))\n",
    "y_hat = lin_model_fitted.predict(houseprices_df[['RM']])\n",
    "y = houseprices_df['target']\n",
    "n = len(y)\n",
    "print('MSE: {:.2f}'.format(np.sum(np.square(y-y_hat))/n))"
   ]
  },
  {
   "cell_type": "markdown",
   "metadata": {},
   "source": [
    "The gradient descent can be combined with a line search, finding the locally optimal step size γ {\\displaystyle \\gamma } \\gamma on every iteration. Performing the line search can be time-consuming. Conversely, using a fixed small γ {\\displaystyle \\gamma } \\gamma can yield poor convergence."
   ]
  },
  {
   "cell_type": "code",
   "execution_count": 194,
   "metadata": {
    "collapsed": true
   },
   "outputs": [],
   "source": [
    "# Gradient descent\n",
    "def gradient_desc(X, y, learn_rate=0.01, conv_treshold=0.1, max_iter=10):\n",
    "    MSE_interations = []\n",
    "    n = len(y)\n",
    "    # Initialize linear regression coefficients\n",
    "    slope = 0\n",
    "    intercept = 0\n",
    "    # First prediction\n",
    "    y_hat = intercept + X*slope\n",
    "    MSE = np.sum(np.square(y-y_hat))/n\n",
    "    MSE_interations.append(MSE)\n",
    "    print('Initial MSE {:.2f}'.format(MSE))\n",
    "    converged = False\n",
    "    iterations = 0\n",
    "    while not converged:\n",
    "        #print('Iteration : {}'.format(iterations))\n",
    "        slope -= learn_rate * (-2/n)*np.sum((y-y_hat) * X)\n",
    "        intercept -=  learn_rate * ((-2/n)*np.sum(y-y_hat))\n",
    "        #print('New slope: {:.2f} and intercept : {:.2f}'.format(slope, intercept))\n",
    "        y_hat = intercept + X*slope\n",
    "        MSE_new = np.sum(np.square(y-y_hat))/n\n",
    "        MSE_interations.append(MSE_new)\n",
    "        #print('New MSE {:.2f}'.format(MSE_new))\n",
    "        if(np.abs(MSE_new - MSE) <= conv_treshold):\n",
    "            plt.plot(MSE_interations)\n",
    "            print('Optimal intercept : {:.2f}, optimal slope {:.2f}, MSE {:.2f} after {} iterations'.format(intercept, slope, MSE, iterations))\n",
    "            converged = True\n",
    "            return intercept, slope, MSE_new\n",
    "        \n",
    "        iterations += 1\n",
    "        MSE = MSE_new\n",
    "        if(iterations > max_iter):\n",
    "            plt.plot(MSE_interations)\n",
    "            converged  = True\n",
    "            print('Max iterations done, returning intercept: {:.2f} and slope: {:.2f}, MSE {:.2f} after {} iterations'.format(intercept, slope, MSE, iterations))\n",
    "            return intercept, slope, MSE_new\n",
    "    "
   ]
  },
  {
   "cell_type": "code",
   "execution_count": 195,
   "metadata": {
    "collapsed": false
   },
   "outputs": [
    {
     "name": "stdout",
     "output_type": "stream",
     "text": [
      "Initial MSE 592.15\n",
      "Optimal intercept : -34.38, optimal slope 9.06, MSE 43.60 after 9974 iterations\n"
     ]
    },
    {
     "data": {
      "text/plain": [
       "(-34.380266583091, 9.0564638299811442, 43.601590479538359)"
      ]
     },
     "execution_count": 195,
     "metadata": {},
     "output_type": "execute_result"
    },
    {
     "data": {
      "image/png": "[encoded data removed]",
      "text/plain": [
       "<matplotlib.figure.Figure at 0x1213bf588>"
      ]
     },
     "metadata": {},
     "output_type": "display_data"
    }
   ],
   "source": [
    "gradient_desc(X = houseprices_df['RM'].values, y = houseprices_df['target'].values, \n",
    "              learn_rate=0.02, \n",
    "              max_iter=10000, \n",
    "              conv_treshold=0.000001)"
   ]
  }
 ],
 "metadata": {
  "anaconda-cloud": {},
  "kernelspec": {
   "display_name": "Python [ing-rockestate-env]",
   "language": "python",
   "name": "Python [ing-rockestate-env]"
  },
  "language_info": {
   "codemirror_mode": {
    "name": "ipython",
    "version": 3
   },
   "file_extension": ".py",
   "mimetype": "text/x-python",
   "name": "python",
   "nbconvert_exporter": "python",
   "pygments_lexer": "ipython3",
   "version": "3.5.2"
  }
 },
 "nbformat": 4,
 "nbformat_minor": 0
}
